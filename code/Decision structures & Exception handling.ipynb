{
 "cells": [
  {
   "cell_type": "code",
   "execution_count": 10,
   "metadata": {},
   "outputs": [
    {
     "name": "stdout",
     "output_type": "stream",
     "text": [
      " T hi s program f ind s the real sol utions to a q uad ra t ic\\ n\n",
      "E nter coefficient a: 1\n",
      "E nter coefficient b: 3\n",
      "E nter coefficient c: 0\n",
      "\n",
      " The solutions are: 0.0 -3.0\n"
     ]
    }
   ],
   "source": [
    "import math\n",
    "\n",
    "def main( ):\n",
    "    print (\" T hi s program f ind s the real sol utions to a q uad ra t ic\\ n\" )\n",
    "    a = float ( input (\"E nter coefficient a: \" ) )\n",
    "    b = float ( input (\"E nter coefficient b: \" ) )\n",
    "    c = float ( input (\"E nter coefficient c: \" ) )\n",
    "    \n",
    "    det = b * b - 4 * a * c\n",
    "    if det > 0:\n",
    "        discRoot = math.sqrt (b * b - 4 * a * c )\n",
    "        root1 = (-b + discRoot) /(2 * a )\n",
    "        root2 = (-b - discRoot) / (2 * a )\n",
    "        print (\"\\n The solutions are:\", root1, root2 )\n",
    "    elif det == 0:\n",
    "        root = -b / (2*a)\n",
    "        print(\"the root value are\", root)\n",
    "    else:\n",
    "        print( \"no real root\")\n",
    "main()"
   ]
  },
  {
   "cell_type": "code",
   "execution_count": 13,
   "metadata": {},
   "outputs": [
    {
     "name": "stdout",
     "output_type": "stream",
     "text": [
      "this programmme is about to find the root of a quadratic equation: \n",
      "the value of a s: 4\n",
      "the value of b is: 3\n",
      "the value of c is: 0\n",
      "the value of the roots are:  0.0 -12.0\n"
     ]
    }
   ],
   "source": [
    "import math\n",
    "print(\"this programmme is about to find the root of a quadratic equation: \")\n",
    "\n",
    "def quadratic():\n",
    "    try:\n",
    "        a = eval(input(\"the value of a s: \"))\n",
    "        b = eval(input(\"the value of b is: \"))\n",
    "        c = eval(input(\"the value of c is: \"))\n",
    "        root = math.sqrt( b*b - 4 * a * c)\n",
    "        \n",
    "        root1 = (-b + root)/ 2*a\n",
    "        root2 = (-b - root)/ 2*a\n",
    "        \n",
    "        print(\"the value of the roots are: \", root1, root2)\n",
    "    except ValueError:\n",
    "        print(\"no real root\")\n",
    "quadratic()\n",
    "        \n",
    "        "
   ]
  },
  {
   "cell_type": "code",
   "execution_count": 14,
   "metadata": {},
   "outputs": [
    {
     "name": "stdout",
     "output_type": "stream",
     "text": [
      "this programmme is about to find the root of a quadratic equation: \n",
      "the value of a s: 1\n",
      "the value of b is: 2\n",
      "the value of c is: 3\n",
      " No real root\n"
     ]
    }
   ],
   "source": [
    "import math\n",
    "print(\"this programmme is about to find the root of a quadratic equation: \")\n",
    "\n",
    "def quadratic():\n",
    "    try:\n",
    "        a = eval(input(\"the value of a s: \"))\n",
    "        b = eval(input(\"the value of b is: \"))\n",
    "        c = eval(input(\"the value of c is: \"))\n",
    "        root = math.sqrt( b*b - 4 * a * c)\n",
    "        \n",
    "        root1 = (-b + root)/ 2*a\n",
    "        root2 = (-b - root)/ 2*a\n",
    "        \n",
    "        print(\"the value of the roots are: \", root1, root2)\n",
    "    except ValueError as Objerr:\n",
    "        if str(Objerr) == \"math domain error\":\n",
    "            print(\" No real root\")\n",
    "        else:\n",
    "            print(\"no possibilities of root\")\n",
    "    except:\n",
    "        \n",
    "        print(\"someting went wrong\")\n",
    "quadratic()\n",
    "        "
   ]
  },
  {
   "cell_type": "code",
   "execution_count": null,
   "metadata": {},
   "outputs": [
    {
     "name": "stdout",
     "output_type": "stream",
     "text": [
      "how many numbers do we have 20\n",
      "input the first number2\n",
      "input the second value3\n",
      "the largest value is 3.0\n",
      "input the second value3\n",
      "the largest value is 3.0\n",
      "input the second value4\n",
      "the largest value is 4.0\n",
      "input the second value2\n",
      "the largest value is 2.0\n",
      "input the second value3\n",
      "the largest value is 3.0\n",
      "input the second value23\n",
      "the largest value is 23.0\n",
      "input the second value2\n",
      "the largest value is 2.0\n",
      "input the second value12\n",
      "the largest value is 12.0\n",
      "input the second value44\n",
      "the largest value is 44.0\n",
      "input the second value2\n",
      "the largest value is 2.0\n",
      "input the second value1\n",
      "2.0\n",
      "input the second value1\n",
      "2.0\n",
      "input the second value2\n",
      "the largest value is 2.0\n",
      "input the second value4\n",
      "the largest value is 4.0\n",
      "input the second value4\n",
      "the largest value is 4.0\n",
      "input the second value2\n",
      "the largest value is 2.0\n",
      "input the second value1\n",
      "2.0\n"
     ]
    }
   ],
   "source": [
    "def main():\n",
    "    n = int(input(\"how many numbers do we have \"))\n",
    "    maxval =float(input(\"input the first number\"))\n",
    "   \n",
    "\n",
    "   \n",
    "    for x in range(n-1):\n",
    "        x=float(input(\"input the second value\"))\n",
    "        if x>= maxval:\n",
    "            print(\"the largest value is\", x)\n",
    "            x= maxval\n",
    "                \n",
    "        else:\n",
    "            print(maxval)\n",
    "    \n",
    "    \n",
    "main()"
   ]
  },
  {
   "cell_type": "code",
   "execution_count": null,
   "metadata": {},
   "outputs": [],
   "source": []
  }
 ],
 "metadata": {
  "kernelspec": {
   "display_name": "Python 3",
   "language": "python",
   "name": "python3"
  },
  "language_info": {
   "codemirror_mode": {
    "name": "ipython",
    "version": 3
   },
   "file_extension": ".py",
   "mimetype": "text/x-python",
   "name": "python",
   "nbconvert_exporter": "python",
   "pygments_lexer": "ipython3",
   "version": "3.8.5"
  }
 },
 "nbformat": 4,
 "nbformat_minor": 4
}
