{
 "cells": [
  {
   "cell_type": "code",
   "execution_count": 1,
   "metadata": {},
   "outputs": [
    {
     "name": "stdout",
     "output_type": "stream",
     "text": [
      "please enter your name: keji\n",
      "hello keji\n"
     ]
    }
   ],
   "source": [
    "name= input(\"please enter your name: \")\n",
    "results= print(\"hello\", name)"
   ]
  },
  {
   "cell_type": "code",
   "execution_count": 5,
   "metadata": {},
   "outputs": [
    {
     "data": {
      "text/plain": [
       "'l'"
      ]
     },
     "execution_count": 5,
     "metadata": {},
     "output_type": "execute_result"
    }
   ],
   "source": [
    "greet = \"Hello Bob\"\n",
    "greet[2]"
   ]
  },
  {
   "cell_type": "code",
   "execution_count": 10,
   "metadata": {},
   "outputs": [
    {
     "name": "stdout",
     "output_type": "stream",
     "text": [
      "The current month of the year is: \n",
      "enter the corresponding month: 5\n",
      "the corresponding month is:  may\n"
     ]
    }
   ],
   "source": [
    "def main():\n",
    "    print(\"The current month of the year is: \")\n",
    "    months = [\"jan\", \"feb\", \"mar\", \"april\", \"may\", \"june\", \"july\", \"august\", \"september\", \"october\", \"november\", \"december\"]\n",
    "    value = eval(input(\"enter the corresponding month: \"))\n",
    "    value= value - 1\n",
    "    print(\"the corresponding month is: \", months[value])\n",
    "main()\n"
   ]
  },
  {
   "cell_type": "code",
   "execution_count": 20,
   "metadata": {},
   "outputs": [
    {
     "name": "stdout",
     "output_type": "stream",
     "text": [
      "this program  is about to encode alot in the bag\n",
      "please enter the message you planned to enconde: adebayour you are rich\n",
      "the encoded message is 97\n",
      "the encoded message is 100\n",
      "the encoded message is 101\n",
      "the encoded message is 98\n",
      "the encoded message is 97\n",
      "the encoded message is 121\n",
      "the encoded message is 111\n",
      "the encoded message is 117\n",
      "the encoded message is 114\n",
      "the encoded message is 32\n",
      "the encoded message is 121\n",
      "the encoded message is 111\n",
      "the encoded message is 117\n",
      "the encoded message is 32\n",
      "the encoded message is 97\n",
      "the encoded message is 114\n",
      "the encoded message is 101\n",
      "the encoded message is 32\n",
      "the encoded message is 114\n",
      "the encoded message is 105\n",
      "the encoded message is 99\n",
      "the encoded message is 104\n"
     ]
    }
   ],
   "source": [
    "def encode():\n",
    "    print(\"this program  is about to encode alot in the bag\")\n",
    "    message= input(\"please enter the message you planned to enconde: \")\n",
    "    for ch in message:\n",
    "        print(\"the encoded message is\",  ord(ch))\n",
    "encode()"
   ]
  },
  {
   "cell_type": "code",
   "execution_count": 27,
   "metadata": {},
   "outputs": [
    {
     "name": "stdout",
     "output_type": "stream",
     "text": [
      "pleasse input the value of the sentence to be decoded: 123 232 21 212 3 2 2\n",
      "our respective msg is:  {è\u0015Ô\u0003\u0002\u0002\n"
     ]
    }
   ],
   "source": [
    "def main():\n",
    "    code = input(\"pleasse input the value of the sentence to be decoded: \")\n",
    "    message = \"\"\n",
    "    for msg in code.split():\n",
    "        msg = int(msg)\n",
    "        message = message + chr(msg)\n",
    "        \n",
    "    print(\"our respective msg is: \", message)\n",
    "main()"
   ]
  },
  {
   "cell_type": "code",
   "execution_count": 34,
   "metadata": {},
   "outputs": [
    {
     "name": "stdout",
     "output_type": "stream",
     "text": [
      "please input your code for decoding: 114 105 99 104\n",
      "our reply is rich\n"
     ]
    }
   ],
   "source": [
    "def main():\n",
    "    codes= input(\"please input your code for decoding: \")\n",
    "    char = []\n",
    "    for code in codes.split():\n",
    "        code = int(code)\n",
    "        char.append(chr(code))\n",
    "    message= \"\".join(char)\n",
    "    print(\"our reply is\", message)\n",
    "main()"
   ]
  }
 ],
 "metadata": {
  "kernelspec": {
   "display_name": "Python 3",
   "language": "python",
   "name": "python3"
  },
  "language_info": {
   "codemirror_mode": {
    "name": "ipython",
    "version": 3
   },
   "file_extension": ".py",
   "mimetype": "text/x-python",
   "name": "python",
   "nbconvert_exporter": "python",
   "pygments_lexer": "ipython3",
   "version": "3.8.5"
  }
 },
 "nbformat": 4,
 "nbformat_minor": 4
}
