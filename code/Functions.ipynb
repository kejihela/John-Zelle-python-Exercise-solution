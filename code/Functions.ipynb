{
 "cells": [
  {
   "cell_type": "code",
   "execution_count": 5,
   "metadata": {
    "scrolled": true
   },
   "outputs": [
    {
     "name": "stdout",
     "output_type": "stream",
     "text": [
      "Happy birthday to you\n",
      "Happy birthday to you\n",
      "happy birthday to you dear shola\n",
      "Happy birthday to you\n",
      "\n",
      "Happy birthday to you\n",
      "Happy birthday to you\n",
      "happy birthday to you dear keji\n",
      "Happy birthday to you\n",
      "\n",
      "Happy birthday to you\n",
      "Happy birthday to you\n",
      "happy birthday to you dear Adebayour\n",
      "Happy birthday to you\n",
      "\n"
     ]
    }
   ],
   "source": [
    "def happy():\n",
    "    print(\"Happy birthday to you\")\n",
    "def sing(person):\n",
    "    happy()\n",
    "    happy()\n",
    "    print(\"happy birthday to you dear\", person)\n",
    "    happy()\n",
    "    print()\n",
    "def main():\n",
    "    sing(\"shola\")\n",
    "    sing(\"keji\")\n",
    "    sing(\"Adebayour\")\n",
    "main()\n",
    "    \n",
    "    \n"
   ]
  },
  {
   "cell_type": "code",
   "execution_count": 17,
   "metadata": {},
   "outputs": [
    {
     "name": "stdout",
     "output_type": "stream",
     "text": [
      "happy birthdays to you!\n",
      "happy birthdays to you!\n",
      "happy birtday to you dear fred\n",
      "happy birthdays to you!\n",
      "\n",
      "happy birthdays to you!\n",
      "happy birthdays to you!\n",
      "happy birtday to you dear steve\n",
      "happy birthdays to you!\n",
      "\n",
      "happy birthdays to you!\n",
      "happy birthdays to you!\n",
      "happy birtday to you dear tosin\n",
      "happy birthdays to you!\n",
      "\n"
     ]
    }
   ],
   "source": [
    "def happy():\n",
    "    return \"happy birthdays to you!\\n\"\n",
    "    \n",
    "def birthday(person):\n",
    "    lyrics = happy()*2 + \"happy birtday to you dear \" + person + \"\\n\" + happy()\n",
    "    return lyrics\n",
    "def main():\n",
    "    for person in [\"fred\", \"steve\", \"tosin\"]:\n",
    "        print(birthday(person))\n",
    "main()\n",
    "    "
   ]
  },
  {
   "cell_type": "code",
   "execution_count": 37,
   "metadata": {},
   "outputs": [
    {
     "name": "stdout",
     "output_type": "stream",
     "text": [
      "[1050.0, 2100.0, 3150.0, 4200.0]\n"
     ]
    }
   ],
   "source": [
    "def addinterest(balance, rate):\n",
    "    for i in range(len(balance)):\n",
    "        balance[i] = balance[i] * (1 + rate)\n",
    "        \n",
    "\n",
    "def test():\n",
    "    amounts = [1000, 2000, 3000, 4000]\n",
    "    rate = 0.05\n",
    "    addinterest(amounts, rate)\n",
    "    print(amounts)\n",
    "test()"
   ]
  }
 ],
 "metadata": {
  "kernelspec": {
   "display_name": "Python 3",
   "language": "python",
   "name": "python3"
  },
  "language_info": {
   "codemirror_mode": {
    "name": "ipython",
    "version": 3
   },
   "file_extension": ".py",
   "mimetype": "text/x-python",
   "name": "python",
   "nbconvert_exporter": "python",
   "pygments_lexer": "ipython3",
   "version": "3.8.5"
  }
 },
 "nbformat": 4,
 "nbformat_minor": 4
}
