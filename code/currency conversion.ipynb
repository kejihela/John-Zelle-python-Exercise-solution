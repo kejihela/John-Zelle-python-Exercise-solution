{
 "cells": [
  {
   "cell_type": "code",
   "execution_count": 2,
   "metadata": {},
   "outputs": [
    {
     "name": "stdout",
     "output_type": "stream",
     "text": [
      "we are about to convert to dollar\n",
      "\n",
      "enter the value for quarters: 3\n",
      "enter your dime value: 3\n",
      "enter your bucks value: 3\n",
      "this is your dollar value: 1.08\n"
     ]
    }
   ],
   "source": [
    "def currency():\n",
    "    \n",
    "    print(\"we are about to convert to dollar\")\n",
    "    print()\n",
    "    quarters= eval(input(\"enter the value for quarters: \"))\n",
    "    dime= eval(input(\"enter your dime value: \"))\n",
    "    bucks= eval(input(\"enter your bucks value: \"))\n",
    "    total= quarters * 0.25 + dime * 0.01 + bucks *  0.10\n",
    "    print(\"this is your dollar value:\", total)\n",
    "    \n",
    "currency()"
   ]
  },
  {
   "cell_type": "code",
   "execution_count": null,
   "metadata": {},
   "outputs": [],
   "source": []
  },
  {
   "cell_type": "code",
   "execution_count": null,
   "metadata": {},
   "outputs": [],
   "source": []
  }
 ],
 "metadata": {
  "kernelspec": {
   "display_name": "Python 3",
   "language": "python",
   "name": "python3"
  },
  "language_info": {
   "codemirror_mode": {
    "name": "ipython",
    "version": 3
   },
   "file_extension": ".py",
   "mimetype": "text/x-python",
   "name": "python",
   "nbconvert_exporter": "python",
   "pygments_lexer": "ipython3",
   "version": "3.8.5"
  }
 },
 "nbformat": 4,
 "nbformat_minor": 4
}
