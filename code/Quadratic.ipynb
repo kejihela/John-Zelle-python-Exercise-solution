{
 "cells": [
  {
   "cell_type": "code",
   "execution_count": 1,
   "metadata": {},
   "outputs": [],
   "source": [
    "import math"
   ]
  },
  {
   "cell_type": "code",
   "execution_count": 8,
   "metadata": {},
   "outputs": [
    {
     "name": "stdout",
     "output_type": "stream",
     "text": [
      "input the value of a: 3\n",
      "input the value of b: 4\n",
      "input the value of c: -2\n",
      "the result of the values are: -1.7207592200561266 0.38742588672279316\n"
     ]
    }
   ],
   "source": [
    "def quadratic():\n",
    "    a= eval(input(\"input the value of a: \"))\n",
    "    b= eval(input(\"input the value of b: \"))\n",
    "    c= eval(input(\"input the value of c: \"))\n",
    "    \n",
    "    formular= math.sqrt(b * b - 4 * a * c)\n",
    "    root1= (-b - formular)/(2 * a)\n",
    "    root2= (-b + formular)/(2 * a)\n",
    "    \n",
    "    result= print(\"the result of the values are:\", root1, root2)\n",
    "quadratic()"
   ]
  }
 ],
 "metadata": {
  "kernelspec": {
   "display_name": "Python 3",
   "language": "python",
   "name": "python3"
  },
  "language_info": {
   "codemirror_mode": {
    "name": "ipython",
    "version": 3
   },
   "file_extension": ".py",
   "mimetype": "text/x-python",
   "name": "python",
   "nbconvert_exporter": "python",
   "pygments_lexer": "ipython3",
   "version": "3.8.5"
  }
 },
 "nbformat": 4,
 "nbformat_minor": 4
}
