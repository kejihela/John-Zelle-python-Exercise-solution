{
 "cells": [
  {
   "cell_type": "code",
   "execution_count": 7,
   "metadata": {},
   "outputs": [
    {
     "name": "stdout",
     "output_type": "stream",
     "text": [
      "program for chaotic function\n",
      "input a number between 0 and 10.25\n",
      "0.73125\n",
      "0.76644140625\n",
      "0.6981350104385375\n",
      "0.8218958187902304\n",
      "0.5708940191969317\n",
      "0.9553987483642099\n",
      "0.166186721954413\n",
      "0.5404179120617926\n",
      "0.9686289302998042\n",
      "0.11850901017563877\n"
     ]
    }
   ],
   "source": [
    "def main():\n",
    "    print(\"program for chaotic function\")\n",
    "    x = eval(input(\"input a number between 0 and 1\"))\n",
    "    for i in range(10):\n",
    "        x = 3.9 * x * (1-x)\n",
    "        print(x)\n",
    "main()"
   ]
  },
  {
   "cell_type": "code",
   "execution_count": 4,
   "metadata": {},
   "outputs": [
    {
     "name": "stdout",
     "output_type": "stream",
     "text": [
      "program for chaotic function\n",
      "input a number between 0 and 10.25\n",
      "how many numbers should i print4\n",
      "0.73125\n",
      "0.76644140625\n",
      "0.6981350104385375\n",
      "0.8218958187902304\n"
     ]
    }
   ],
   "source": [
    "def main():\n",
    "    print(\"program for chaotic function\")\n",
    "    x = eval(input(\"input a number between 0 and 1\"))\n",
    "    n = eval(input(\"how many numbers should i print\"))\n",
    "    for i in range(n):\n",
    "        x = 3.9 * x * (1-x)\n",
    "        print(x)\n",
    "main()"
   ]
  },
  {
   "cell_type": "code",
   "execution_count": null,
   "metadata": {},
   "outputs": [],
   "source": [
    "def main():\n",
    "    score1, score2 = eval(input(\"enter the 2 numbers:\"))\n",
    "    overall_score = (score1 + score2)/2\n",
    "    print(overall_score)\n",
    "main()\n",
    "    "
   ]
  }
 ],
 "metadata": {
  "kernelspec": {
   "display_name": "Python 3",
   "language": "python",
   "name": "python3"
  },
  "language_info": {
   "codemirror_mode": {
    "name": "ipython",
    "version": 3
   },
   "file_extension": ".py",
   "mimetype": "text/x-python",
   "name": "python",
   "nbconvert_exporter": "python",
   "pygments_lexer": "ipython3",
   "version": "3.8.5"
  }
 },
 "nbformat": 4,
 "nbformat_minor": 4
}
