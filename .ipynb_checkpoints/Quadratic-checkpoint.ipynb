{
 "cells": [
  {
   "cell_type": "code",
   "execution_count": 1,
   "metadata": {},
   "outputs": [],
   "source": [
    "import math"
   ]
  },
  {
   "cell_type": "code",
   "execution_count": null,
   "metadata": {},
   "outputs": [],
   "source": [
    "def quadratic():\n",
    "    a= eval(input(\"input the value of a: \"))\n",
    "    b= eval(input(\"input the value of b: \"))\n",
    "    c= eval(input(\"input the value of c: \"))\n",
    "    \n",
    "    formular= math.sqrt(b**2 - 4 * a * c)\n",
    "    root1= (b - formular)/2a\n",
    "    root2= (b + formular)/2a\n",
    "    \n",
    "    result= print(\"the result of the values are:\", root1, root2)"
   ]
  }
 ],
 "metadata": {
  "kernelspec": {
   "display_name": "Python 3",
   "language": "python",
   "name": "python3"
  },
  "language_info": {
   "codemirror_mode": {
    "name": "ipython",
    "version": 3
   },
   "file_extension": ".py",
   "mimetype": "text/x-python",
   "name": "python",
   "nbconvert_exporter": "python",
   "pygments_lexer": "ipython3",
   "version": "3.8.5"
  }
 },
 "nbformat": 4,
 "nbformat_minor": 4
}
