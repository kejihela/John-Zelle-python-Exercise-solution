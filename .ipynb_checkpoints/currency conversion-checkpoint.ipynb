{
 "cells": [
  {
   "cell_type": "code",
   "execution_count": null,
   "metadata": {},
   "outputs": [],
   "source": [
    "def currency():\n",
    "    \n",
    "    print(\"we are about to convert to dollar\")\n",
    "    print()\n",
    "    quarters= eval(input(\"enter the value for quarters: \"))\n",
    "    dime= eval(input(\"enter your dime value: \"))\n",
    "    bucks= eval)input(\"enter your bucks value: \")\n",
    "    "
   ]
  }
 ],
 "metadata": {
  "kernelspec": {
   "display_name": "Python 3",
   "language": "python",
   "name": "python3"
  },
  "language_info": {
   "codemirror_mode": {
    "name": "ipython",
    "version": 3
   },
   "file_extension": ".py",
   "mimetype": "text/x-python",
   "name": "python",
   "nbconvert_exporter": "python",
   "pygments_lexer": "ipython3",
   "version": "3.8.5"
  }
 },
 "nbformat": 4,
 "nbformat_minor": 4
}
